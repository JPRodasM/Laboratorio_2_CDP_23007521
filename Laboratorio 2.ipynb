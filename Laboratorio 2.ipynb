{
 "cells": [
  {
   "attachments": {},
   "cell_type": "markdown",
   "metadata": {},
   "source": [
    "# Laboratorio 2"
   ]
  },
  {
   "attachments": {},
   "cell_type": "markdown",
   "metadata": {},
   "source": [
    "Juan Pablo Rodas\n",
    "\n",
    "carnet 23007125"
   ]
  },
  {
   "attachments": {},
   "cell_type": "markdown",
   "metadata": {},
   "source": [
    "## Parte #1"
   ]
  },
  {
   "attachments": {},
   "cell_type": "markdown",
   "metadata": {},
   "source": [
    "### 1) Programa de segudos"
   ]
  },
  {
   "cell_type": "code",
   "execution_count": 15,
   "metadata": {},
   "outputs": [
    {
     "name": "stdout",
     "output_type": "stream",
     "text": [
      "ingreso un dato no valido, asffqw no es valido, intentelo nuevamente\n",
      "ingreso un dato no valido, qwfq6a4 no es valido, intentelo nuevamente\n",
      "56598516 segundos es igual a: 1 horas, 48 minutos y 36 segundos\n"
     ]
    }
   ],
   "source": [
    "flag = True\n",
    "\n",
    "while(flag):\n",
    "    try:\n",
    "        #entrada de datos\n",
    "        entry = input('Ingrese un numero (en segundos)')\n",
    "        entry_num=int(entry)\n",
    "\n",
    "        #calculo de horas minutos y segundos\n",
    "        seconds = int((entry_num%60))\n",
    "        minutes = int((entry_num/60)%60)\n",
    "        hours = int((entry_num/3600)%60)\n",
    "\n",
    "        #muestra los datos\n",
    "        print(f'{entry} segundos es igual a: {hours} horas, {minutes} minutos y {seconds} segundos')\n",
    "        flag=False\n",
    "\n",
    "    except ValueError:\n",
    "\n",
    "        print(f'ingreso un dato no valido, {entry} no es valido, intentelo nuevamente')\n",
    "\n",
    "    except:\n",
    "        pass\n",
    "\n"
   ]
  },
  {
   "attachments": {},
   "cell_type": "markdown",
   "metadata": {},
   "source": [
    "### 2) Programa de Triangulos"
   ]
  },
  {
   "cell_type": "code",
   "execution_count": 41,
   "metadata": {},
   "outputs": [],
   "source": [
    "def triangles(number,charac):\n",
    "    if (number<=20) and (number>=1):\n",
    "        blank=' '\n",
    "        for i in range(1,number+1):\n",
    "            print(i*charac+(number+1)*blank+(number+1-i)*charac+(number+1)*blank+(number+1-i)*charac+(number+1)*blank+i*charac)\n",
    "\n",
    "    else:\n",
    "        print('ingreso un rago de datos no valido debe ser un numero entre (1,20)')"
   ]
  },
  {
   "attachments": {},
   "cell_type": "markdown",
   "metadata": {},
   "source": [
    "### 3) Programa fecha de nacimiento"
   ]
  },
  {
   "cell_type": "code",
   "execution_count": null,
   "metadata": {},
   "outputs": [],
   "source": []
  }
 ],
 "metadata": {
  "kernelspec": {
   "display_name": "base",
   "language": "python",
   "name": "python3"
  },
  "language_info": {
   "codemirror_mode": {
    "name": "ipython",
    "version": 3
   },
   "file_extension": ".py",
   "mimetype": "text/x-python",
   "name": "python",
   "nbconvert_exporter": "python",
   "pygments_lexer": "ipython3",
   "version": "3.9.13"
  },
  "orig_nbformat": 4,
  "vscode": {
   "interpreter": {
    "hash": "0bfab090e78322557efdda86b1a9ba3dae027e2044eda92e4760772339eaf967"
   }
  }
 },
 "nbformat": 4,
 "nbformat_minor": 2
}
