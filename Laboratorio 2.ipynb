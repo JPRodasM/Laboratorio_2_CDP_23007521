{
 "cells": [
  {
   "attachments": {},
   "cell_type": "markdown",
   "metadata": {},
   "source": [
    "# Laboratorio 2"
   ]
  },
  {
   "attachments": {},
   "cell_type": "markdown",
   "metadata": {},
   "source": [
    "Juan Pablo Rodas\n",
    "\n",
    "carnet 23007125"
   ]
  },
  {
   "attachments": {},
   "cell_type": "markdown",
   "metadata": {},
   "source": [
    "## Parte #1"
   ]
  },
  {
   "attachments": {},
   "cell_type": "markdown",
   "metadata": {},
   "source": [
    "### 1) Programa de segudos"
   ]
  },
  {
   "cell_type": "code",
   "execution_count": 15,
   "metadata": {},
   "outputs": [
    {
     "name": "stdout",
     "output_type": "stream",
     "text": [
      "ingreso un dato no valido, asffqw no es valido, intentelo nuevamente\n",
      "ingreso un dato no valido, qwfq6a4 no es valido, intentelo nuevamente\n",
      "56598516 segundos es igual a: 1 horas, 48 minutos y 36 segundos\n"
     ]
    }
   ],
   "source": [
    "flag = True\n",
    "\n",
    "while(flag):\n",
    "    try:\n",
    "        #entrada de datos\n",
    "        entry = input('Ingrese un numero (en segundos)')\n",
    "        entry_num=int(entry)\n",
    "\n",
    "        #calculo de horas minutos y segundos\n",
    "        seconds = int((entry_num%60))\n",
    "        minutes = int((entry_num/60)%60)\n",
    "        hours = int((entry_num/3600)%60)\n",
    "\n",
    "        #muestra los datos\n",
    "        print(f'{entry} segundos es igual a: {hours} horas, {minutes} minutos y {seconds} segundos')\n",
    "        flag=False\n",
    "\n",
    "    except ValueError:\n",
    "\n",
    "        print(f'ingreso un dato no valido, {entry} no es valido, intentelo nuevamente')\n",
    "\n",
    "    except:\n",
    "        pass\n",
    "\n"
   ]
  },
  {
   "attachments": {},
   "cell_type": "markdown",
   "metadata": {},
   "source": [
    "### 2) Programa de Triangulos"
   ]
  },
  {
   "cell_type": "code",
   "execution_count": 93,
   "metadata": {},
   "outputs": [],
   "source": [
    "def triangles(number:int,charac:str):\n",
    "    if (number<=20) and (number>=1):\n",
    "        blank=' '\n",
    "        for i in range(1,number+1):\n",
    "            print(i*charac+(number+1)*blank+(number+1-i)*charac+(number+1)*blank+(number+1-i)*charac+(number+1)*blank+i*charac)\n",
    "\n",
    "    else:\n",
    "        print('ingreso un rago de datos no valido debe ser un numero entre (1,20)')"
   ]
  },
  {
   "cell_type": "code",
   "execution_count": 100,
   "metadata": {},
   "outputs": [
    {
     "name": "stdout",
     "output_type": "stream",
     "text": [
      "&       &&&&&&       &&&&&&       &\n",
      "&&       &&&&&       &&&&&       &&\n",
      "&&&       &&&&       &&&&       &&&\n",
      "&&&&       &&&       &&&       &&&&\n",
      "&&&&&       &&       &&       &&&&&\n",
      "&&&&&&       &       &       &&&&&&\n"
     ]
    }
   ],
   "source": [
    "triangles(6,'&')"
   ]
  },
  {
   "attachments": {},
   "cell_type": "markdown",
   "metadata": {},
   "source": [
    "### 3) Programa fecha de nacimiento"
   ]
  },
  {
   "cell_type": "code",
   "execution_count": 92,
   "metadata": {},
   "outputs": [
    {
     "name": "stdout",
     "output_type": "stream",
     "text": [
      "ingrese su fecha de nacimiento\n",
      "Su edad es de: 29 años 9 meses y 17 dias\n"
     ]
    }
   ],
   "source": [
    "from datetime import date\n",
    "\n",
    "try:\n",
    "    print('ingrese su fecha de nacimiento')\n",
    "    B_day = int(input('ingrese el dia: '))\n",
    "    B_month = int(input('ingrese el mes: '))\n",
    "    B_year = int(input('ingrese el año: '))\n",
    "\n",
    "    if ((B_day<=31) or (B_month<=12) or (B_year<=2023)):\n",
    "        edad_y = abs(date.today().year - B_year)\n",
    "        edad_m = abs(date.today().month - B_month)\n",
    "        edad_d = abs(date.today().day - B_day)\n",
    "        if date.today().month<B_month:\n",
    "            edad_y-=1\n",
    "            edad_m=12-edad_m\n",
    "        if date.today().day<B_day:\n",
    "            edad_m-=1\n",
    "            edad_d=31-edad_d\n",
    "        print(f'Su edad es de: {edad_y} años {edad_m} meses y {edad_d} dias')    \n",
    "\n",
    "except ValueError:\n",
    "    print('ingreso un valor no valido')\n"
   ]
  },
  {
   "attachments": {},
   "cell_type": "markdown",
   "metadata": {},
   "source": [
    "### 4) Funcion de tupla a str"
   ]
  },
  {
   "cell_type": "code",
   "execution_count": 115,
   "metadata": {},
   "outputs": [],
   "source": [
    "def tuple_to_string(a:tuple):\n",
    "    strtuple = \"\"\n",
    "    if type(a)!=tuple:\n",
    "        print('tipo de dato no valido')\n",
    "        \n",
    "    else:\n",
    "        try:\n",
    "            for i in a:\n",
    "                strtuple+=str(i)\n",
    "\n",
    "        except Exception as e:        \n",
    "            print(e)\n",
    "\n",
    "        return strtuple"
   ]
  },
  {
   "cell_type": "code",
   "execution_count": 119,
   "metadata": {},
   "outputs": [
    {
     "data": {
      "text/plain": [
       "'12359hwtyh'"
      ]
     },
     "execution_count": 119,
     "metadata": {},
     "output_type": "execute_result"
    }
   ],
   "source": [
    "tuple_to_string((1,2,3,5,9,'h','w','tyh'))\n"
   ]
  },
  {
   "attachments": {},
   "cell_type": "markdown",
   "metadata": {},
   "source": [
    "### 5) Funcion tupla vacia"
   ]
  },
  {
   "cell_type": "code",
   "execution_count": 18,
   "metadata": {},
   "outputs": [],
   "source": [
    "def delet_empty_tupple(a:list):\n",
    "    list_wo_etuple = []\n",
    "    if type(a)!=list:\n",
    "        print('tipo de dato no valido')\n",
    "\n",
    "    else:\n",
    "        try:\n",
    "            for i in a:\n",
    "                if len(i)>0:\n",
    "                    list_wo_etuple.append(i)\n",
    "\n",
    "            return list_wo_etuple\n",
    "\n",
    "        except Exception as e:        \n",
    "            print('uno de los elemetos de la lista no es una tupla')\n"
   ]
  },
  {
   "cell_type": "code",
   "execution_count": 22,
   "metadata": {},
   "outputs": [
    {
     "data": {
      "text/plain": [
       "[(1, 2, 3), (1, 5), (4,)]"
      ]
     },
     "execution_count": 22,
     "metadata": {},
     "output_type": "execute_result"
    }
   ],
   "source": [
    "a=[(1,2,3),(),(),(1,5),(),(4,)]\n",
    "delet_empty_tupple(a)"
   ]
  },
  {
   "attachments": {},
   "cell_type": "markdown",
   "metadata": {},
   "source": [
    "### 6) Funcion promedio de tuplas"
   ]
  },
  {
   "cell_type": "code",
   "execution_count": 33,
   "metadata": {},
   "outputs": [],
   "source": [
    "def tupple_avrg(a:tuple):\n",
    "    avrg = []\n",
    "    if type(a)!=tuple:\n",
    "        print('tipo de dato no valido')\n",
    "\n",
    "    else:\n",
    "        try:\n",
    "            for i in a:\n",
    "                if type(i)==tuple:\n",
    "                    avrg.append(sum(i)/len(i))\n",
    "\n",
    "                else:\n",
    "                    raise Exception('tipo de dato no valido para la funcion')\n",
    "\n",
    "            return tuple(avrg)\n",
    "\n",
    "        except Exception as e:        \n",
    "            print('uno de los elemetos de la tupla no es una tupla')"
   ]
  },
  {
   "cell_type": "code",
   "execution_count": 37,
   "metadata": {},
   "outputs": [
    {
     "data": {
      "text/plain": [
       "(91.6, 15.0, 50.0)"
      ]
     },
     "execution_count": 37,
     "metadata": {},
     "output_type": "execute_result"
    }
   ],
   "source": [
    "a = ((100,80,95,84,99),(12,8,25),(40,50,60))\n",
    "tupple_avrg(a)"
   ]
  },
  {
   "attachments": {},
   "cell_type": "markdown",
   "metadata": {},
   "source": [
    "### 7) Gestion de Facturas"
   ]
  },
  {
   "cell_type": "code",
   "execution_count": 52,
   "metadata": {},
   "outputs": [
    {
     "name": "stdout",
     "output_type": "stream",
     "text": [
      "Bienvenido al programa de Gestion de facturas\n",
      "por favor seleccione la opcion que desea realizar\n",
      "   1) ingresar una factura\n",
      "   2) pagar una factura ya existente\n",
      "   3) salir\n",
      "El monto total de las facturas ingresadas es de 100\n",
      "Ese numero de factura ya existe\n",
      "El monto total de las facturas ingresadas es de 100\n",
      "El monto total de las facturas ingresadas es de 300\n",
      "El monto total de las facturas ingresadas es de 800\n",
      "ingreso un numero de factura no valido\n",
      "factura numero 1111 con monto de 100 pagada con exito\n",
      "El monto total de las facturas ingresadas es de 700\n",
      "Gracias por utilizar el servicio de Gestion de facturas\n",
      "El monto total de las facturas ingresadas es de 700\n"
     ]
    }
   ],
   "source": [
    "flag = True\n",
    "facturas={}\n",
    "total=0\n",
    "print('Bienvenido al programa de Gestion de facturas')\n",
    "print('por favor seleccione la opcion que desea realizar')\n",
    "print('   1) ingresar una factura')\n",
    "print('   2) pagar una factura ya existente')\n",
    "print('   3) salir')\n",
    "\n",
    "while(flag):\n",
    "    try:\n",
    "        command=int(input('ingrese el numero de operacion que desee realizar: '))\n",
    "\n",
    "        if command==1:\n",
    "            factura_key=int(input('Ingrese el numero de la factura (4 digitos)'))\n",
    "            if factura_key>9999:\n",
    "                print('las facturas deben tener 4 digitos nada mas')\n",
    "            elif factura_key<0:\n",
    "                print('las facturas deben tener 4 digitos')\n",
    "            elif factura_key in facturas:\n",
    "                print('Ese numero de factura ya existe')\n",
    "            else:\n",
    "                factura_val=int(input('Ingrese el monto total de la factura'))\n",
    "                if factura_val<0:\n",
    "                    print('el valor de monto de la factura no puede ser negativo')\n",
    "                else:\n",
    "                    facturas.update({factura_key: factura_val})\n",
    "\n",
    "        elif command==2:\n",
    "            factura_key=int(input('Ingrese el numero de la factura (4 digitos)'))\n",
    "            if factura_key>9999:\n",
    "                print('las facturas deben tener 4 digitos nada mas')\n",
    "            elif factura_key<0:\n",
    "                print('las facturas deben tener 4 digitos')\n",
    "            else:\n",
    "                print(f'factura numero {factura_key} con monto de {facturas[factura_key]} pagada con exito')\n",
    "                facturas.pop(factura_key)\n",
    "\n",
    "        elif command==3:\n",
    "            print('Gracias por utilizar el servicio de Gestion de facturas')\n",
    "            flag=False\n",
    "\n",
    "        for key in facturas:\n",
    "            total+=facturas[key]\n",
    "        print(f'El monto total de las facturas ingresadas es de {total}')\n",
    "        total=0\n",
    "\n",
    "    except KeyError:\n",
    "        print('ingreso un numero de factura no valido')\n",
    "\n",
    "    except:\n",
    "        print('ingreso un dato no valido')"
   ]
  },
  {
   "attachments": {},
   "cell_type": "markdown",
   "metadata": {},
   "source": [
    "### 8) Set de cartas"
   ]
  },
  {
   "cell_type": "code",
   "execution_count": 2,
   "metadata": {},
   "outputs": [],
   "source": [
    "import numpy as np"
   ]
  },
  {
   "cell_type": "code",
   "execution_count": 3,
   "metadata": {},
   "outputs": [],
   "source": [
    "def CrearMazoDeCartas():\n",
    "    Mazo = set()\n",
    "    Tipos = ['T','C','P','E']\n",
    "\n",
    "    for i in Tipos:\n",
    "        for j in range (1,14):\n",
    "            Mazo.add(i+str(j))\n",
    "\n",
    "    return Mazo"
   ]
  },
  {
   "cell_type": "code",
   "execution_count": 117,
   "metadata": {},
   "outputs": [],
   "source": [
    "def DosSetDeCartas(Mazo:set):\n",
    "    Tipos = ['T','C','P','E']\n",
    "    Mazo1 = Mazo.copy()\n",
    "    Mazo2 = Mazo.copy()\n",
    "    cant1 = np.random.randint(1,25)\n",
    "    cant2 = np.random.randint(1,25)\n",
    "    print(cant1)\n",
    "    print(cant2)\n",
    "\n",
    "    set1 = set()\n",
    "    set2 = set()\n",
    "\n",
    "    i = 0\n",
    "    while(i<cant1):\n",
    "        try:\n",
    "            carta = Tipos[np.random.randint(0,3)] + str(np.random.randint(1,13))\n",
    "            Mazo1.remove(carta)\n",
    "            set1.add(carta)\n",
    "            i+=1\n",
    "        except:\n",
    "            pass\n",
    "\n",
    "    j = 0\n",
    "    while(j<cant2):\n",
    "        try:\n",
    "            carta = Tipos[np.random.randint(0,3)] + str(np.random.randint(1,13))\n",
    "            Mazo2.remove(carta)\n",
    "            set2.add(carta)\n",
    "            j+=1\n",
    "        except:\n",
    "            pass\n",
    "\n",
    "    return set1, set2"
   ]
  },
  {
   "cell_type": "code",
   "execution_count": 138,
   "metadata": {},
   "outputs": [
    {
     "name": "stdout",
     "output_type": "stream",
     "text": [
      "6\n",
      "15\n"
     ]
    }
   ],
   "source": [
    "mazo = CrearMazoDeCartas()\n",
    "a,b = DosSetDeCartas(mazo)"
   ]
  },
  {
   "cell_type": "code",
   "execution_count": 140,
   "metadata": {},
   "outputs": [
    {
     "name": "stdout",
     "output_type": "stream",
     "text": [
      "la interseccion entre ambos es {'T11', 'T12', 'T10'} con probabilidad de 3.288237242533588e-20\n"
     ]
    }
   ],
   "source": [
    "inter=a.intersection(b)\n",
    "\n",
    "prob = len(a.intersection(b))/((np.math.factorial(52))/((np.math.factorial(len(a)))*(np.math.factorial(52-len(a))))*((np.math.factorial(52))/((np.math.factorial(len(b)))*(np.math.factorial(52-len(b))))))\n",
    "\n",
    "print(f'la interseccion entre ambos es {inter} con probabilidad de {prob}')"
   ]
  },
  {
   "cell_type": "code",
   "execution_count": 141,
   "metadata": {},
   "outputs": [
    {
     "name": "stdout",
     "output_type": "stream",
     "text": [
      "la union entre ambos es {'T12', 'T9', 'P3', 'P6', 'T10', 'P11', 'C7', 'T1', 'P10', 'C1', 'P1', 'T3', 'C4', 'C12', 'C3', 'C5', 'T11', 'C2'} con probabilidad de 4.9119707272975904e-08\n"
     ]
    }
   ],
   "source": [
    "uni = a.union(b)\n",
    "\n",
    "probA = 1/((np.math.factorial(52))/((np.math.factorial(len(a)))*(np.math.factorial(52-len(a)))))\n",
    "probB = 1/((np.math.factorial(52))/((np.math.factorial(len(b)))*(np.math.factorial(52-len(b)))))\n",
    "probInter = len(a.intersection(b))*probA*probB\n",
    "probUnion = probA + probB - probInter\n",
    "\n",
    "print(f'la union entre ambos es {uni} con probabilidad de {probUnion}')"
   ]
  }
 ],
 "metadata": {
  "kernelspec": {
   "display_name": "base",
   "language": "python",
   "name": "python3"
  },
  "language_info": {
   "codemirror_mode": {
    "name": "ipython",
    "version": 3
   },
   "file_extension": ".py",
   "mimetype": "text/x-python",
   "name": "python",
   "nbconvert_exporter": "python",
   "pygments_lexer": "ipython3",
   "version": "3.9.13"
  },
  "orig_nbformat": 4,
  "vscode": {
   "interpreter": {
    "hash": "0bfab090e78322557efdda86b1a9ba3dae027e2044eda92e4760772339eaf967"
   }
  }
 },
 "nbformat": 4,
 "nbformat_minor": 2
}
